{
 "cells": [
  {
   "cell_type": "markdown",
   "metadata": {},
   "source": [
    "### Init stuff"
   ]
  },
  {
   "cell_type": "code",
   "execution_count": 1,
   "metadata": {},
   "outputs": [],
   "source": [
    "from matplotlib.pyplot import *\n",
    "import matplotlib\n",
    "from numpy import *\n",
    "import pandas as pd\n",
    "import niddk_covid_sicr as ncs"
   ]
  },
  {
   "cell_type": "markdown",
   "metadata": {},
   "source": [
    "### Define ROI"
   ]
  },
  {
   "cell_type": "code",
   "execution_count": 2,
   "metadata": {},
   "outputs": [],
   "source": [
    "roi = 'US_MN'"
   ]
  },
  {
   "cell_type": "markdown",
   "metadata": {},
   "source": [
    "### Define paths and other"
   ]
  },
  {
   "cell_type": "code",
   "execution_count": 3,
   "metadata": {},
   "outputs": [],
   "source": [
    "linear_models = ['SICRLM','SICRLM2R','SICRLMQC','SICRLMQC2R']\n",
    "nonlinear_models = ['SICRM','SICRM2R','SICRMQC','SICRMQC2R']\n",
    "# models = linear_models #+ nonlinear_models\n",
    "models = ['SICR2HV']\n",
    "\n",
    "models_path = '../models/'\n",
    "casepath = '../data/covidtimeseries_'\n",
    "fits_path = '../fits/'"
   ]
  },
  {
   "cell_type": "code",
   "execution_count": 4,
   "metadata": {},
   "outputs": [],
   "source": [
    "%matplotlib inline\n",
    "\n",
    "font = {'family' : 'normal',\n",
    "        'weight' : 'normal',\n",
    "        'size'   : 18}\n",
    "\n",
    "matplotlib.rc('font', **font)"
   ]
  },
  {
   "cell_type": "code",
   "execution_count": 5,
   "metadata": {},
   "outputs": [],
   "source": [
    "def simpleaxis(ax):\n",
    "    ax.spines['top'].set_visible(False)\n",
    "    ax.spines['bottom'].set_visible(False)\n",
    "    ax.spines['right'].set_visible(False)\n",
    "    ax.spines['left'].set_visible(False)\n",
    "\n",
    "\n",
    "\n",
    "def plot_ts(ax,c,r,d,x):\n",
    "    Clb = percentile(c,2.5,axis=0)\n",
    "    Cm = percentile(c,50,axis=0)\n",
    "    Cub = percentile(c,97.5,axis=0)\n",
    "\n",
    "    Rlb = percentile(r,2.5,axis=0)\n",
    "    Rm = percentile(r,50,axis=0)\n",
    "    Rub = percentile(r,97.5,axis=0)\n",
    "\n",
    "    Dlb = percentile(d,2.5,axis=0)\n",
    "    Dm = percentile(d,50,axis=0)\n",
    "    Dub = percentile(d,97.5,axis=0)\n",
    "\n",
    "    mecolor = 'none'\n",
    "    ax[0].plot(DF[\"new_cases\"].values,'bo',ms=10, markeredgecolor=mecolor,label=\"cases data\")\n",
    "    ax[1].plot(DF[\"new_recover\"].values,'gs',ms=10, markeredgecolor=mecolor,label=\"recovered data\")\n",
    "    ax[2].plot(DF[\"new_deaths\"].values,'k^',ms=10, markeredgecolor=mecolor,label=\"deaths data\")\n",
    "\n",
    "    # print(c)\n",
    "    ax[0].plot(x,Cm,color='b',lw=lw,label=\"case median fit\")\n",
    "    ax[0].fill_between(x,Clb,Cub,color='b',alpha=a)\n",
    "    \n",
    "    ax[1].plot(x,Rm,color='g',lw=lw,label=\"recovered median fit\")\n",
    "    ax[1].fill_between(x,Rlb,Rub,color='g',alpha=a)\n",
    "    \n",
    "    ax[2].plot(x,Dm,color='k',lw=lw,label=\"deaths median fit\")\n",
    "    ax[2].fill_between(x,Dlb,Dub,color='k',alpha=a)\n",
    "    \n",
    "    \n",
    "    ax[0].plot(x,Clb,color='k')\n",
    "    ax[0].plot(x,Cub,color='k')\n",
    "    \n",
    "    ax[1].plot(x,Rlb,color='k')\n",
    "    ax[1].plot(x,Rub,color='k')\n",
    "    \n",
    "    ax[2].plot(x,Dlb,color='k')\n",
    "    ax[2].plot(x,Dub,color='k')\n",
    "    \n",
    "    for i in range(3):\n",
    "        ax[i].set_ylabel('counts-per-day')\n",
    "        ax[i].set_xlabel('day from t0')\n",
    "#         ax[i].set_xticks(xticks_)\n",
    "#         ax[i].set_xticklabels(xdates_)\n",
    "#         ax[i].axvline(tm,linestyle='dashed',color='k',label='mitigation')\n",
    "#         ax[i].axvline(tfit,color='k')\n",
    "        if i==0:\n",
    "            ax[0].plot(0,0,linestyle='none',color='none', label='shaded: 95% C.I.')\n",
    "        ax[i].legend(loc=2)\n",
    "        simpleaxis(ax[i])\n",
    "    \n",
    "    \n",
    "    ax[0].set_title('new cases per day')\n",
    "    ax[1].set_title('new recovered per day')\n",
    "    ax[2].set_title('new deaths per day')\n",
    "    \n",
    "    \n",
    "    \n",
    "    return\n",
    "\n",
    "def plotXt(ax,Xt,x,c):\n",
    "    Xtlb = percentile(Xt,2.5,axis=0)\n",
    "    Xtm = percentile(Xt,50,axis=0)\n",
    "    Xtub = percentile(Xt,97.5,axis=0)\n",
    "    \n",
    "    ax.plot(x,Xtm,color=c,lw=lw,label=\"median\")\n",
    "    ax.fill_between(x,Xtlb,Xtub,color=c,alpha=a)\n",
    "    ax.plot(x,Xtlb,color='k')\n",
    "    ax.plot(x,Xtub,color='k')\n",
    "    simpleaxis(ax)\n",
    "#     ax.set_ylabel('secondary infections per infected')\n",
    "#     ax.set_xticks(xticks_)\n",
    "#     ax.set_xticklabels(xdates_)\n",
    "#     ax.set_ylim((0,32))\n",
    "#     ax.set_yticks(y_)\n",
    "#     ax.axvline(tm,linestyle='dashed',color='k',label='mitigation')\n",
    "#     ax.axvline(tfit,color='k')\n",
    "    return"
   ]
  },
  {
   "cell_type": "markdown",
   "metadata": {},
   "source": [
    "### Load data "
   ]
  },
  {
   "cell_type": "code",
   "execution_count": 6,
   "metadata": {},
   "outputs": [],
   "source": [
    "#  if roi[:2]=='US':\n",
    "#     DF = getDF_covidtrack(roi.split('US_')[1])\n",
    "# else:\n",
    "#     DF = getDF_JHU(roi)"
   ]
  },
  {
   "cell_type": "code",
   "execution_count": 6,
   "metadata": {},
   "outputs": [],
   "source": [
    "csv = casepath + roi + \".csv\"\n",
    "DF = pd.read_csv(csv)"
   ]
  },
  {
   "cell_type": "markdown",
   "metadata": {},
   "source": [
    "### Format data"
   ]
  },
  {
   "cell_type": "code",
   "execution_count": 7,
   "metadata": {},
   "outputs": [],
   "source": [
    "# filter data frame by April 15th cutoff date\n",
    "\n",
    "# ind = DF.index[DF.date=='04/15/20'].values[0]\n",
    "# DF = DF[DF.index<=ind]\n",
    "\n",
    "\n",
    "# get t0\n",
    "t0 = DF.index[DF.new_cases>5].values[0]\n",
    "DF = DF[DF.index>=t0]"
   ]
  },
  {
   "cell_type": "markdown",
   "metadata": {},
   "source": [
    "### get samples"
   ]
  },
  {
   "cell_type": "code",
   "execution_count": null,
   "metadata": {
    "scrolled": true
   },
   "outputs": [
    {
     "name": "stdout",
     "output_type": "stream",
     "text": [
      "SICR2HV\n"
     ]
    },
    {
     "name": "stderr",
     "output_type": "stream",
     "text": [
      "INFO:pystan:COMPILING THE C++ CODE FOR MODEL anon_model_0299dc597b66c7e65fe78dae7de38989 NOW.\n"
     ]
    }
   ],
   "source": [
    "for model_name in models:\n",
    "    print(model_name)\n",
    "    samples = ncs.extract_samples(fits_path, models_path, model_name, roi, 1)\n",
    "    nsamples = shape(samples['mbase'])[0]\n",
    "    for i in np.arange(1000,1,-1).astype(str):\n",
    "        try:\n",
    "            a = samples['lambda['+i+',1]']\n",
    "            break\n",
    "        except:\n",
    "            pass\n",
    "    nobs = int(i)\n",
    "    c = zeros((nsamples,1))\n",
    "    r = zeros((nsamples,1))\n",
    "    d = zeros((nsamples,1))\n",
    "    Rt = zeros((nsamples,1))\n",
    "    CARt = zeros((nsamples,1))\n",
    "    IFRt = zeros((nsamples,1))\n",
    "\n",
    "    for i in range(1,nobs+1):\n",
    "        c = np.hstack((c,samples['lambda['+str(i)+',1]'][:,None]))\n",
    "        r = np.hstack((r,samples['lambda['+str(i)+',2]'][:,None]))\n",
    "        d = np.hstack((d,samples['lambda['+str(i)+',3]'][:,None]))\n",
    "        Rt = np.hstack((Rt,samples['Rt['+str(i)+']'][:,None]))\n",
    "        CARt = np.hstack((CARt,samples['car['+str(i)+']'][:,None]))\n",
    "        IFRt = np.hstack((IFRt,samples['ifr['+str(i)+']'][:,None]))\n",
    "\n",
    "c = c[:,1:]\n",
    "r = r[:,1:]\n",
    "d = d[:,1:]\n",
    "Rt = Rt[:,1:]\n",
    "CARt = CARt[:,1:]\n",
    "IFRt = IFRt[:,1:]\n",
    "                       \n",
    "                       \n",
    "lw = 4\n",
    "f,ax = subplots(2,3,figsize=(15,20))\n",
    "ax = ax.flatten()\n",
    "a = 0.1\n",
    "x = arange(nobs)\n",
    "plot_ts(ax[:3],c,r,d,x)\n",
    "\n",
    "ax[3].set_title(r'R$_t$')\n",
    "plotXt(ax[3],Rt,x,'purple')\n",
    "ax[3].set_ylim((0,20))\n",
    "ax[3].set_yticks([1,2,4,6,8,10,12])\n",
    "\n",
    "ax[4].set_title(r'CAR$_t$')\n",
    "plotXt(ax[4],CARt,x,'orange')\n",
    "\n",
    "ax[5].set_title(r'IFR$_t$')\n",
    "plotXt(ax[5],IFRt,x,'red')\n",
    "ax[5].set_ylim((0,0.15))\n",
    "ax[5].set_yticks([0.01,0.02,0.04,0.08])\n",
    "\n",
    "suptitle(roi + ' - Linear no QC models (fit10)')\n",
    "subplots_adjust(wspace=0.5,hspace=0.5)\n",
    "\n"
   ]
  },
  {
   "cell_type": "code",
   "execution_count": 10,
   "metadata": {},
   "outputs": [],
   "source": [
    "# def fix_date(x):\n",
    "#     x = datetime.strftime(datetime.strptime(x, '%m/%d/%y'), '%m/%d/%y')\n",
    "#     return x\n",
    "\n",
    "# def fix_date_covidtrack(x):\n",
    "#     x = datetime.strftime(datetime.strptime(str(x), '%Y%m%d'), '%m/%d/%y')\n",
    "#     return x \n",
    "\n",
    "# def getDF_covidtrack(roi):\n",
    "#     url = 'https://raw.githubusercontent.com/COVID19Tracking/covid-tracking-data/master/data/states_daily_4pm_et.csv'\n",
    "#     df = pd.read_csv(url)\n",
    "#     DF = pd.DataFrame(columns=['date', \n",
    "#                                'cum_cases','cum_recover','cum_deaths', \n",
    "#                                'new_cases', 'new_recover', 'new_deaths'])\n",
    "#     df = df[df['state']==roi]\n",
    "#     date = sort(df['date'].values)\n",
    "#     for i in range(len(date)):\n",
    "#         DF.loc[i] = pd.Series({\n",
    "#                              'date':fix_date_covidtrack(date[i]),\n",
    "#                              'cum_cases':df.loc[df['date']==date[i]]['positive'].values[0],\n",
    "#                              'cum_recover':df.loc[df['date']==date[i]]['recovered'].values[0],\n",
    "#                              'cum_deaths':df.loc[df['date']==date[i]]['death'].values[0],\n",
    "#                             })\n",
    "#     DF[['new_cases', 'new_recover', 'new_deaths']] = \\\n",
    "#     DF[['cum_cases',  'cum_recover', 'cum_deaths']].diff()\n",
    "#     if isnan(DF.new_cases.values[0]):\n",
    "#         DF = DF.iloc[1:]\n",
    "#     return DF\n",
    "\n",
    "# def getDF_JHU(roi):\n",
    "#     url_confirmed = \"https://raw.githubusercontent.com/CSSEGISandData/COVID-19/master/csse_covid_19_data/csse_covid_19_time_series/time_series_covid19_confirmed_global.csv\"\n",
    "#     url_recovered = \"https://raw.githubusercontent.com/CSSEGISandData/COVID-19/master/csse_covid_19_data/csse_covid_19_time_series/time_series_covid19_recovered_global.csv\"\n",
    "#     url_deaths = \"https://raw.githubusercontent.com/CSSEGISandData/COVID-19/master/csse_covid_19_data/csse_covid_19_time_series/time_series_covid19_deaths_global.csv\"\n",
    "\n",
    "#     dfc = pd.read_csv(url_confirmed)\n",
    "#     dfr = pd.read_csv(url_recovered)\n",
    "#     dfd = pd.read_csv(url_deaths)\n",
    "\n",
    "\n",
    "#     DF = pd.DataFrame(columns=['date', \n",
    "#                                'cum_cases','cum_recover','cum_deaths', \n",
    "#                                'new_cases', 'new_recover', 'new_deaths'])\n",
    "\n",
    "#     date = dfc.columns[4:].values\n",
    "#     try:\n",
    "#         for i in range(len(date)):\n",
    "#           DF.loc[i] = pd.Series({\n",
    "#                                 'date':fix_date(date[i]),\n",
    "#                                  'cum_cases':dfc.loc[(dfc['Country/Region']==roi)&(dfc['Province/State'].isnull())][date[i]].values[0],\n",
    "#                                  'cum_recover':dfr.loc[(dfr['Country/Region']==roi)&(dfc['Province/State'].isnull())][date[i]].values[0],\n",
    "#                                  'cum_deaths':dfd.loc[(dfd['Country/Region']==roi)&(dfc['Province/State'].isnull())][date[i]].values[0],\n",
    "#                                 })\n",
    "#     except:\n",
    "#         for i in range(len(date)):\n",
    "#           DF.loc[i] = pd.Series({\n",
    "#                                 'date':fix_date(date[i]),\n",
    "#                                  'cum_cases':sum(dfc.loc[(dfc['Country/Region']==roi)][date[i]].values),\n",
    "#                                  'cum_recover':sum(dfr.loc[(dfr['Country/Region']==roi)][date[i]].values),\n",
    "#                                  'cum_deaths':sum(dfd.loc[(dfd['Country/Region']==roi)][date[i]].values),\n",
    "#                                 })\n",
    "\n",
    "#     DF[['new_cases', 'new_recover', 'new_deaths']] = \\\n",
    "#     DF[['cum_cases',  'cum_recover', 'cum_deaths']].diff()\n",
    "\n",
    "#     # print(DF)\n",
    "#     if isnan(DF.new_cases.values[0]):\n",
    "#         DF = DF.iloc[1:]\n",
    "#     return DF\n"
   ]
  }
 ],
 "metadata": {
  "kernelspec": {
   "display_name": "Python 3",
   "language": "python",
   "name": "python3"
  },
  "language_info": {
   "codemirror_mode": {
    "name": "ipython",
    "version": 3
   },
   "file_extension": ".py",
   "mimetype": "text/x-python",
   "name": "python",
   "nbconvert_exporter": "python",
   "pygments_lexer": "ipython3",
   "version": "3.7.4"
  }
 },
 "nbformat": 4,
 "nbformat_minor": 4
}
