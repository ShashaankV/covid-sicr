{
 "cells": [
  {
   "cell_type": "markdown",
   "metadata": {},
   "source": [
    "### Init stuff"
   ]
  },
  {
   "cell_type": "code",
   "execution_count": 1,
   "metadata": {},
   "outputs": [],
   "source": [
    "from matplotlib.pyplot import *\n",
    "import matplotlib\n",
    "from numpy import *\n",
    "import pandas as pd\n",
    "import niddk_covid_sicr as ncs"
   ]
  },
  {
   "cell_type": "markdown",
   "metadata": {},
   "source": [
    "### Define ROI"
   ]
  },
  {
   "cell_type": "code",
   "execution_count": 18,
   "metadata": {},
   "outputs": [],
   "source": [
    "roi = 'US_SD'"
   ]
  },
  {
   "cell_type": "markdown",
   "metadata": {},
   "source": [
    "### Define paths and other"
   ]
  },
  {
   "cell_type": "code",
   "execution_count": 16,
   "metadata": {},
   "outputs": [],
   "source": [
    "model_name = 'SICRMQC'\n",
    "models_path = '/Users/carsonc/github/covid-sicr/models/'\n",
    "casepath = '/Users/carsonc/github/covid-sicr/data/covidtimeseries_'\n",
    "fits_path = '/Users/carsonc/github/covid-sicr/fits/'"
   ]
  },
  {
   "cell_type": "code",
   "execution_count": 4,
   "metadata": {},
   "outputs": [],
   "source": [
    "%matplotlib inline\n",
    "\n",
    "font = {'family' : 'normal',\n",
    "        'weight' : 'normal',\n",
    "        'size'   : 18}\n",
    "\n",
    "matplotlib.rc('font', **font)"
   ]
  },
  {
   "cell_type": "code",
   "execution_count": 5,
   "metadata": {},
   "outputs": [],
   "source": [
    "def simpleaxis(ax):\n",
    "    ax.spines['top'].set_visible(False)\n",
    "    ax.spines['bottom'].set_visible(False)\n",
    "    ax.spines['right'].set_visible(False)\n",
    "    ax.spines['left'].set_visible(False)\n",
    "\n",
    "\n",
    "\n",
    "def plot_ts(ax,c,r,d,x):\n",
    "    Clb = percentile(c,2.5,axis=0)\n",
    "    Cm = percentile(c,50,axis=0)\n",
    "    Cub = percentile(c,97.5,axis=0)\n",
    "\n",
    "    Rlb = percentile(r,2.5,axis=0)\n",
    "    Rm = percentile(r,50,axis=0)\n",
    "    Rub = percentile(r,97.5,axis=0)\n",
    "\n",
    "    Dlb = percentile(d,2.5,axis=0)\n",
    "    Dm = percentile(d,50,axis=0)\n",
    "    Dub = percentile(d,97.5,axis=0)\n",
    "\n",
    "    mecolor = 'none'\n",
    "    ax[0].plot(DF[\"new_cases\"].values,'bo',ms=10, markeredgecolor=mecolor,label=\"cases data\")\n",
    "    ax[1].plot(DF[\"new_recover\"].values,'gs',ms=10, markeredgecolor=mecolor,label=\"recovered data\")\n",
    "    ax[2].plot(DF[\"new_deaths\"].values,'k^',ms=10, markeredgecolor=mecolor,label=\"deaths data\")\n",
    "\n",
    "    # print(c)\n",
    "    ax[0].plot(x,Cm,color='b',lw=lw,label=\"case median fit\")\n",
    "    ax[0].fill_between(x,Clb,Cub,color='b',alpha=a)\n",
    "    \n",
    "    ax[1].plot(x,Rm,color='g',lw=lw,label=\"recovered median fit\")\n",
    "    ax[1].fill_between(x,Rlb,Rub,color='g',alpha=a)\n",
    "    \n",
    "    ax[2].plot(x,Dm,color='k',lw=lw,label=\"deaths median fit\")\n",
    "    ax[2].fill_between(x,Dlb,Dub,color='k',alpha=a)\n",
    "    \n",
    "    \n",
    "    ax[0].plot(x,Clb,color='k')\n",
    "    ax[0].plot(x,Cub,color='k')\n",
    "    \n",
    "    ax[1].plot(x,Rlb,color='k')\n",
    "    ax[1].plot(x,Rub,color='k')\n",
    "    \n",
    "    ax[2].plot(x,Dlb,color='k')\n",
    "    ax[2].plot(x,Dub,color='k')\n",
    "    \n",
    "    for i in range(3):\n",
    "        ax[i].set_ylabel('counts-per-day')\n",
    "        ax[i].set_xlabel('day from t0')\n",
    "#         ax[i].set_xticks(xticks_)\n",
    "#         ax[i].set_xticklabels(xdates_)\n",
    "#         ax[i].axvline(tm,linestyle='dashed',color='k',label='mitigation')\n",
    "#         ax[i].axvline(tfit,color='k')\n",
    "        if i==0:\n",
    "            ax[0].plot(0,0,linestyle='none',color='none', label='shaded: 95% C.I.')\n",
    "        ax[i].legend(loc=2)\n",
    "        simpleaxis(ax[i])\n",
    "    \n",
    "    \n",
    "    ax[0].set_title('new cases per day')\n",
    "    ax[1].set_title('new recovered per day')\n",
    "    ax[2].set_title('new deaths per day')\n",
    "    \n",
    "    \n",
    "    \n",
    "    return\n",
    "\n",
    "def plotXt(ax,Xt,x,c):\n",
    "    Xtlb = percentile(Xt,2.5,axis=0)\n",
    "    Xtm = percentile(Xt,50,axis=0)\n",
    "    Xtub = percentile(Xt,97.5,axis=0)\n",
    "    \n",
    "    ax.plot(x,Xtm,color=c,lw=lw,label=\"median\")\n",
    "    ax.fill_between(x,Xtlb,Xtub,color=c,alpha=a)\n",
    "    ax.plot(x,Xtlb,color='k')\n",
    "    ax.plot(x,Xtub,color='k')\n",
    "    simpleaxis(ax)\n",
    "#     ax.set_ylabel('secondary infections per infected')\n",
    "#     ax.set_xticks(xticks_)\n",
    "#     ax.set_xticklabels(xdates_)\n",
    "#     ax.set_ylim((0,32))\n",
    "#     ax.set_yticks(y_)\n",
    "#     ax.axvline(tm,linestyle='dashed',color='k',label='mitigation')\n",
    "#     ax.axvline(tfit,color='k')\n",
    "    return"
   ]
  },
  {
   "cell_type": "markdown",
   "metadata": {},
   "source": [
    "### Load data "
   ]
  },
  {
   "cell_type": "code",
   "execution_count": 6,
   "metadata": {},
   "outputs": [],
   "source": [
    "#  if roi[:2]=='US':\n",
    "#     DF = getDF_covidtrack(roi.split('US_')[1])\n",
    "# else:\n",
    "#     DF = getDF_JHU(roi)"
   ]
  },
  {
   "cell_type": "code",
   "execution_count": 6,
   "metadata": {},
   "outputs": [],
   "source": [
    "csv = casepath + roi + \".csv\"\n",
    "DF = pd.read_csv(csv)"
   ]
  },
  {
   "cell_type": "markdown",
   "metadata": {},
   "source": [
    "### Format data"
   ]
  },
  {
   "cell_type": "code",
   "execution_count": 7,
   "metadata": {},
   "outputs": [],
   "source": [
    "# filter data frame by April 15th cutoff date\n",
    "\n",
    "# ind = DF.index[DF.date=='04/15/20'].values[0]\n",
    "# DF = DF[DF.index<=ind]\n",
    "\n",
    "\n",
    "# get t0\n",
    "t0 = DF.index[DF.new_cases>1].values[0]\n",
    "DF = DF[DF.index>=t0]"
   ]
  },
  {
   "cell_type": "markdown",
   "metadata": {},
   "source": [
    "### get samples"
   ]
  },
  {
   "cell_type": "code",
   "execution_count": 17,
   "metadata": {},
   "outputs": [
    {
     "ename": "RuntimeError",
     "evalue": "Exception: variable does not exist; processing stage=data initialization; variable name=n_weeks; base type=int  (in 'SICRStochastic.stan' at line 7)\n",
     "output_type": "error",
     "traceback": [
      "\u001b[0;31m---------------------------------------------------------------------------\u001b[0m",
      "\u001b[0;31mModuleNotFoundError\u001b[0m                       Traceback (most recent call last)",
      "\u001b[0;32m~/github/covid-sicr/niddk_covid_sicr/io.py\u001b[0m in \u001b[0;36mload_fit\u001b[0;34m(fit_path, model_full_path, new_module_name)\u001b[0m\n\u001b[1;32m    211\u001b[0m         \u001b[0;32mwith\u001b[0m \u001b[0mopen\u001b[0m\u001b[0;34m(\u001b[0m\u001b[0mfit_path\u001b[0m\u001b[0;34m,\u001b[0m \u001b[0;34m\"rb\"\u001b[0m\u001b[0;34m)\u001b[0m \u001b[0;32mas\u001b[0m \u001b[0mf\u001b[0m\u001b[0;34m:\u001b[0m\u001b[0;34m\u001b[0m\u001b[0;34m\u001b[0m\u001b[0m\n\u001b[0;32m--> 212\u001b[0;31m             \u001b[0mfit\u001b[0m \u001b[0;34m=\u001b[0m \u001b[0mpickle\u001b[0m\u001b[0;34m.\u001b[0m\u001b[0mload\u001b[0m\u001b[0;34m(\u001b[0m\u001b[0mf\u001b[0m\u001b[0;34m)\u001b[0m\u001b[0;34m\u001b[0m\u001b[0;34m\u001b[0m\u001b[0m\n\u001b[0m\u001b[1;32m    213\u001b[0m     \u001b[0;32mexcept\u001b[0m \u001b[0mModuleNotFoundError\u001b[0m \u001b[0;32mas\u001b[0m \u001b[0me\u001b[0m\u001b[0;34m:\u001b[0m\u001b[0;34m\u001b[0m\u001b[0;34m\u001b[0m\u001b[0m\n",
      "\u001b[0;31mModuleNotFoundError\u001b[0m: No module named 'stanfit4anon_model_fd5f9eac8cde81f3212a99fa7f3f4b7c_8937512635905200309'",
      "\nDuring handling of the above exception, another exception occurred:\n",
      "\u001b[0;31mRuntimeError\u001b[0m                              Traceback (most recent call last)",
      "\u001b[0;32m<ipython-input-17-836318620863>\u001b[0m in \u001b[0;36m<module>\u001b[0;34m\u001b[0m\n\u001b[0;32m----> 1\u001b[0;31m \u001b[0msamples\u001b[0m \u001b[0;34m=\u001b[0m \u001b[0mncs\u001b[0m\u001b[0;34m.\u001b[0m\u001b[0mextract_samples\u001b[0m\u001b[0;34m(\u001b[0m\u001b[0mfits_path\u001b[0m\u001b[0;34m,\u001b[0m \u001b[0mmodels_path\u001b[0m\u001b[0;34m,\u001b[0m \u001b[0mmodel_name\u001b[0m\u001b[0;34m,\u001b[0m \u001b[0mroi\u001b[0m\u001b[0;34m,\u001b[0m \u001b[0;36m1\u001b[0m\u001b[0;34m)\u001b[0m\u001b[0;34m\u001b[0m\u001b[0;34m\u001b[0m\u001b[0m\n\u001b[0m\u001b[1;32m      2\u001b[0m \u001b[0;31m# fit = ncs.load_fit(fits_path+model_name+'_France.pkl', '/Users/aavattikutis/Git/covid-sicr-niddk/models/SICRLM', 1)\u001b[0m\u001b[0;34m\u001b[0m\u001b[0;34m\u001b[0m\u001b[0;34m\u001b[0m\u001b[0m\n\u001b[1;32m      3\u001b[0m \u001b[0;31m# print(fit)\u001b[0m\u001b[0;34m\u001b[0m\u001b[0;34m\u001b[0m\u001b[0;34m\u001b[0m\u001b[0m\n\u001b[1;32m      4\u001b[0m \u001b[0;31m# [print(i) for i in samples.keys()]\u001b[0m\u001b[0;34m\u001b[0m\u001b[0;34m\u001b[0m\u001b[0;34m\u001b[0m\u001b[0m\n\u001b[1;32m      5\u001b[0m \u001b[0mnsamples\u001b[0m \u001b[0;34m=\u001b[0m \u001b[0mshape\u001b[0m\u001b[0;34m(\u001b[0m\u001b[0msamples\u001b[0m\u001b[0;34m[\u001b[0m\u001b[0;34m'mbase'\u001b[0m\u001b[0;34m]\u001b[0m\u001b[0;34m)\u001b[0m\u001b[0;34m[\u001b[0m\u001b[0;36m0\u001b[0m\u001b[0;34m]\u001b[0m\u001b[0;34m\u001b[0m\u001b[0;34m\u001b[0m\u001b[0m\n",
      "\u001b[0;32m~/github/covid-sicr/niddk_covid_sicr/io.py\u001b[0m in \u001b[0;36mextract_samples\u001b[0;34m(fits_path, models_path, model_name, roi, fit_format)\u001b[0m\n\u001b[1;32m    255\u001b[0m         \u001b[0mfit_path\u001b[0m \u001b[0;34m=\u001b[0m \u001b[0mPath\u001b[0m\u001b[0;34m(\u001b[0m\u001b[0mfits_path\u001b[0m\u001b[0;34m)\u001b[0m \u001b[0;34m/\u001b[0m \u001b[0;34m(\u001b[0m\u001b[0;34m\"%s_%s.pkl\"\u001b[0m \u001b[0;34m%\u001b[0m \u001b[0;34m(\u001b[0m\u001b[0mmodel_name\u001b[0m\u001b[0;34m,\u001b[0m \u001b[0mroi\u001b[0m\u001b[0;34m)\u001b[0m\u001b[0;34m)\u001b[0m\u001b[0;34m\u001b[0m\u001b[0;34m\u001b[0m\u001b[0m\n\u001b[1;32m    256\u001b[0m         \u001b[0mmodel_full_path\u001b[0m \u001b[0;34m=\u001b[0m \u001b[0mget_model_path\u001b[0m\u001b[0;34m(\u001b[0m\u001b[0mmodels_path\u001b[0m\u001b[0;34m,\u001b[0m \u001b[0mmodel_name\u001b[0m\u001b[0;34m)\u001b[0m\u001b[0;34m\u001b[0m\u001b[0;34m\u001b[0m\u001b[0m\n\u001b[0;32m--> 257\u001b[0;31m         \u001b[0mfit\u001b[0m \u001b[0;34m=\u001b[0m \u001b[0mload_fit\u001b[0m\u001b[0;34m(\u001b[0m\u001b[0mfit_path\u001b[0m\u001b[0;34m,\u001b[0m \u001b[0mmodel_full_path\u001b[0m\u001b[0;34m)\u001b[0m\u001b[0;34m\u001b[0m\u001b[0;34m\u001b[0m\u001b[0m\n\u001b[0m\u001b[1;32m    258\u001b[0m         \u001b[0msamples\u001b[0m \u001b[0;34m=\u001b[0m \u001b[0mfit\u001b[0m\u001b[0;34m.\u001b[0m\u001b[0mto_dataframe\u001b[0m\u001b[0;34m(\u001b[0m\u001b[0;34m)\u001b[0m\u001b[0;34m\u001b[0m\u001b[0;34m\u001b[0m\u001b[0m\n\u001b[1;32m    259\u001b[0m     \u001b[0;32mreturn\u001b[0m \u001b[0msamples\u001b[0m\u001b[0;34m\u001b[0m\u001b[0;34m\u001b[0m\u001b[0m\n",
      "\u001b[0;32m~/github/covid-sicr/niddk_covid_sicr/io.py\u001b[0m in \u001b[0;36mload_fit\u001b[0;34m(fit_path, model_full_path, new_module_name)\u001b[0m\n\u001b[1;32m    223\u001b[0m             \u001b[0mnew_module_name\u001b[0m \u001b[0;34m=\u001b[0m \u001b[0mmatches\u001b[0m\u001b[0;34m[\u001b[0m\u001b[0;36m0\u001b[0m\u001b[0;34m]\u001b[0m\u001b[0;34m\u001b[0m\u001b[0;34m\u001b[0m\u001b[0m\n\u001b[1;32m    224\u001b[0m             \u001b[0msys\u001b[0m\u001b[0;34m.\u001b[0m\u001b[0mmodules\u001b[0m\u001b[0;34m[\u001b[0m\u001b[0mnew_module_name\u001b[0m\u001b[0;34m]\u001b[0m \u001b[0;34m=\u001b[0m \u001b[0msys\u001b[0m\u001b[0;34m.\u001b[0m\u001b[0mmodules\u001b[0m\u001b[0;34m[\u001b[0m\u001b[0mold_module_name\u001b[0m\u001b[0;34m]\u001b[0m\u001b[0;34m\u001b[0m\u001b[0;34m\u001b[0m\u001b[0m\n\u001b[0;32m--> 225\u001b[0;31m             \u001b[0mfit\u001b[0m \u001b[0;34m=\u001b[0m \u001b[0mload_fit\u001b[0m\u001b[0;34m(\u001b[0m\u001b[0mfit_path\u001b[0m\u001b[0;34m,\u001b[0m \u001b[0mold_module_name\u001b[0m\u001b[0;34m,\u001b[0m \u001b[0mnew_module_name\u001b[0m\u001b[0;34m)\u001b[0m\u001b[0;34m\u001b[0m\u001b[0;34m\u001b[0m\u001b[0m\n\u001b[0m\u001b[1;32m    226\u001b[0m         \u001b[0;32melse\u001b[0m\u001b[0;34m:\u001b[0m\u001b[0;34m\u001b[0m\u001b[0;34m\u001b[0m\u001b[0m\n\u001b[1;32m    227\u001b[0m             \u001b[0mmsg\u001b[0m \u001b[0;34m=\u001b[0m \u001b[0;34m\"Module not found message did not parse correctly\"\u001b[0m\u001b[0;34m\u001b[0m\u001b[0;34m\u001b[0m\u001b[0m\n",
      "\u001b[0;32m~/github/covid-sicr/niddk_covid_sicr/io.py\u001b[0m in \u001b[0;36mload_fit\u001b[0;34m(fit_path, model_full_path, new_module_name)\u001b[0m\n\u001b[1;32m    210\u001b[0m     \u001b[0;32mtry\u001b[0m\u001b[0;34m:\u001b[0m\u001b[0;34m\u001b[0m\u001b[0;34m\u001b[0m\u001b[0m\n\u001b[1;32m    211\u001b[0m         \u001b[0;32mwith\u001b[0m \u001b[0mopen\u001b[0m\u001b[0;34m(\u001b[0m\u001b[0mfit_path\u001b[0m\u001b[0;34m,\u001b[0m \u001b[0;34m\"rb\"\u001b[0m\u001b[0;34m)\u001b[0m \u001b[0;32mas\u001b[0m \u001b[0mf\u001b[0m\u001b[0;34m:\u001b[0m\u001b[0;34m\u001b[0m\u001b[0;34m\u001b[0m\u001b[0m\n\u001b[0;32m--> 212\u001b[0;31m             \u001b[0mfit\u001b[0m \u001b[0;34m=\u001b[0m \u001b[0mpickle\u001b[0m\u001b[0;34m.\u001b[0m\u001b[0mload\u001b[0m\u001b[0;34m(\u001b[0m\u001b[0mf\u001b[0m\u001b[0;34m)\u001b[0m\u001b[0;34m\u001b[0m\u001b[0;34m\u001b[0m\u001b[0m\n\u001b[0m\u001b[1;32m    213\u001b[0m     \u001b[0;32mexcept\u001b[0m \u001b[0mModuleNotFoundError\u001b[0m \u001b[0;32mas\u001b[0m \u001b[0me\u001b[0m\u001b[0;34m:\u001b[0m\u001b[0;34m\u001b[0m\u001b[0;34m\u001b[0m\u001b[0m\n\u001b[1;32m    214\u001b[0m         \u001b[0mmatches\u001b[0m \u001b[0;34m=\u001b[0m \u001b[0mre\u001b[0m\u001b[0;34m.\u001b[0m\u001b[0mfindall\u001b[0m\u001b[0;34m(\u001b[0m\u001b[0;34m\"No module named '([a-z0-9_]+)'\"\u001b[0m\u001b[0;34m,\u001b[0m \u001b[0mstr\u001b[0m\u001b[0;34m(\u001b[0m\u001b[0me\u001b[0m\u001b[0;34m)\u001b[0m\u001b[0;34m)\u001b[0m\u001b[0;34m\u001b[0m\u001b[0;34m\u001b[0m\u001b[0m\n",
      "\u001b[0;32mstanfit4anon_model_42cd20d102911a9d750f596d5d110014_6015247665529770411.pyx\u001b[0m in \u001b[0;36mstanfit4anon_model_42cd20d102911a9d750f596d5d110014_6015247665529770411.StanFit4Model.__cinit__\u001b[0;34m()\u001b[0m\n",
      "\u001b[0;31mRuntimeError\u001b[0m: Exception: variable does not exist; processing stage=data initialization; variable name=n_weeks; base type=int  (in 'SICRStochastic.stan' at line 7)\n"
     ]
    }
   ],
   "source": [
    "samples = ncs.extract_samples(fits_path, models_path, model_name, roi, 1)\n",
    "# fit = ncs.load_fit(fits_path+model_name+'_France.pkl', '/Users/aavattikutis/Git/covid-sicr-niddk/models/SICRLM', 1)\n",
    "# print(fit)\n",
    "# [print(i) for i in samples.keys()]\n",
    "nsamples = shape(samples['mbase'])[0]\n",
    "# print(nsamples)\n",
    "\n",
    "# rhat =\n",
    "\n",
    "for i in np.arange(1000,1,-1).astype(str):\n",
    "    try:\n",
    "        a = samples['lambda['+i+',1]']\n",
    "        break\n",
    "    except:\n",
    "        pass\n",
    "nobs = int(i)\n",
    "print(nobs)"
   ]
  },
  {
   "cell_type": "code",
   "execution_count": 13,
   "metadata": {
    "scrolled": true
   },
   "outputs": [
    {
     "ename": "KeyError",
     "evalue": "'lambda[1,1]'",
     "output_type": "error",
     "traceback": [
      "\u001b[0;31m---------------------------------------------------------------------------\u001b[0m",
      "\u001b[0;31mKeyError\u001b[0m                                  Traceback (most recent call last)",
      "\u001b[0;32m/usr/local/lib/python3.8/site-packages/pandas/core/indexes/base.py\u001b[0m in \u001b[0;36mget_loc\u001b[0;34m(self, key, method, tolerance)\u001b[0m\n\u001b[1;32m   2645\u001b[0m             \u001b[0;32mtry\u001b[0m\u001b[0;34m:\u001b[0m\u001b[0;34m\u001b[0m\u001b[0;34m\u001b[0m\u001b[0m\n\u001b[0;32m-> 2646\u001b[0;31m                 \u001b[0;32mreturn\u001b[0m \u001b[0mself\u001b[0m\u001b[0;34m.\u001b[0m\u001b[0m_engine\u001b[0m\u001b[0;34m.\u001b[0m\u001b[0mget_loc\u001b[0m\u001b[0;34m(\u001b[0m\u001b[0mkey\u001b[0m\u001b[0;34m)\u001b[0m\u001b[0;34m\u001b[0m\u001b[0;34m\u001b[0m\u001b[0m\n\u001b[0m\u001b[1;32m   2647\u001b[0m             \u001b[0;32mexcept\u001b[0m \u001b[0mKeyError\u001b[0m\u001b[0;34m:\u001b[0m\u001b[0;34m\u001b[0m\u001b[0;34m\u001b[0m\u001b[0m\n",
      "\u001b[0;32mpandas/_libs/index.pyx\u001b[0m in \u001b[0;36mpandas._libs.index.IndexEngine.get_loc\u001b[0;34m()\u001b[0m\n",
      "\u001b[0;32mpandas/_libs/index.pyx\u001b[0m in \u001b[0;36mpandas._libs.index.IndexEngine.get_loc\u001b[0;34m()\u001b[0m\n",
      "\u001b[0;32mpandas/_libs/hashtable_class_helper.pxi\u001b[0m in \u001b[0;36mpandas._libs.hashtable.PyObjectHashTable.get_item\u001b[0;34m()\u001b[0m\n",
      "\u001b[0;32mpandas/_libs/hashtable_class_helper.pxi\u001b[0m in \u001b[0;36mpandas._libs.hashtable.PyObjectHashTable.get_item\u001b[0;34m()\u001b[0m\n",
      "\u001b[0;31mKeyError\u001b[0m: 'lambda[1,1]'",
      "\nDuring handling of the above exception, another exception occurred:\n",
      "\u001b[0;31mKeyError\u001b[0m                                  Traceback (most recent call last)",
      "\u001b[0;32m<ipython-input-13-6e7a5561f0bf>\u001b[0m in \u001b[0;36m<module>\u001b[0;34m\u001b[0m\n\u001b[1;32m      7\u001b[0m \u001b[0;34m\u001b[0m\u001b[0m\n\u001b[1;32m      8\u001b[0m \u001b[0;32mfor\u001b[0m \u001b[0mi\u001b[0m \u001b[0;32min\u001b[0m \u001b[0mrange\u001b[0m\u001b[0;34m(\u001b[0m\u001b[0;36m1\u001b[0m\u001b[0;34m,\u001b[0m\u001b[0mnobs\u001b[0m\u001b[0;34m+\u001b[0m\u001b[0;36m1\u001b[0m\u001b[0;34m)\u001b[0m\u001b[0;34m:\u001b[0m\u001b[0;34m\u001b[0m\u001b[0;34m\u001b[0m\u001b[0m\n\u001b[0;32m----> 9\u001b[0;31m     \u001b[0mc\u001b[0m\u001b[0;34m[\u001b[0m\u001b[0;34m:\u001b[0m\u001b[0;34m,\u001b[0m\u001b[0mi\u001b[0m\u001b[0;34m-\u001b[0m\u001b[0;36m1\u001b[0m\u001b[0;34m]\u001b[0m \u001b[0;34m=\u001b[0m \u001b[0msamples\u001b[0m\u001b[0;34m[\u001b[0m\u001b[0;34m'lambda['\u001b[0m\u001b[0;34m+\u001b[0m\u001b[0mstr\u001b[0m\u001b[0;34m(\u001b[0m\u001b[0mi\u001b[0m\u001b[0;34m)\u001b[0m\u001b[0;34m+\u001b[0m\u001b[0;34m',1]'\u001b[0m\u001b[0;34m]\u001b[0m\u001b[0;34m\u001b[0m\u001b[0;34m\u001b[0m\u001b[0m\n\u001b[0m\u001b[1;32m     10\u001b[0m     \u001b[0mr\u001b[0m\u001b[0;34m[\u001b[0m\u001b[0;34m:\u001b[0m\u001b[0;34m,\u001b[0m\u001b[0mi\u001b[0m\u001b[0;34m-\u001b[0m\u001b[0;36m1\u001b[0m\u001b[0;34m]\u001b[0m \u001b[0;34m=\u001b[0m \u001b[0msamples\u001b[0m\u001b[0;34m[\u001b[0m\u001b[0;34m'lambda['\u001b[0m\u001b[0;34m+\u001b[0m\u001b[0mstr\u001b[0m\u001b[0;34m(\u001b[0m\u001b[0mi\u001b[0m\u001b[0;34m)\u001b[0m\u001b[0;34m+\u001b[0m\u001b[0;34m',2]'\u001b[0m\u001b[0;34m]\u001b[0m\u001b[0;34m\u001b[0m\u001b[0;34m\u001b[0m\u001b[0m\n\u001b[1;32m     11\u001b[0m     \u001b[0md\u001b[0m\u001b[0;34m[\u001b[0m\u001b[0;34m:\u001b[0m\u001b[0;34m,\u001b[0m\u001b[0mi\u001b[0m\u001b[0;34m-\u001b[0m\u001b[0;36m1\u001b[0m\u001b[0;34m]\u001b[0m \u001b[0;34m=\u001b[0m \u001b[0msamples\u001b[0m\u001b[0;34m[\u001b[0m\u001b[0;34m'lambda['\u001b[0m\u001b[0;34m+\u001b[0m\u001b[0mstr\u001b[0m\u001b[0;34m(\u001b[0m\u001b[0mi\u001b[0m\u001b[0;34m)\u001b[0m\u001b[0;34m+\u001b[0m\u001b[0;34m',3]'\u001b[0m\u001b[0;34m]\u001b[0m\u001b[0;34m\u001b[0m\u001b[0;34m\u001b[0m\u001b[0m\n",
      "\u001b[0;32m/usr/local/lib/python3.8/site-packages/pandas/core/frame.py\u001b[0m in \u001b[0;36m__getitem__\u001b[0;34m(self, key)\u001b[0m\n\u001b[1;32m   2798\u001b[0m             \u001b[0;32mif\u001b[0m \u001b[0mself\u001b[0m\u001b[0;34m.\u001b[0m\u001b[0mcolumns\u001b[0m\u001b[0;34m.\u001b[0m\u001b[0mnlevels\u001b[0m \u001b[0;34m>\u001b[0m \u001b[0;36m1\u001b[0m\u001b[0;34m:\u001b[0m\u001b[0;34m\u001b[0m\u001b[0;34m\u001b[0m\u001b[0m\n\u001b[1;32m   2799\u001b[0m                 \u001b[0;32mreturn\u001b[0m \u001b[0mself\u001b[0m\u001b[0;34m.\u001b[0m\u001b[0m_getitem_multilevel\u001b[0m\u001b[0;34m(\u001b[0m\u001b[0mkey\u001b[0m\u001b[0;34m)\u001b[0m\u001b[0;34m\u001b[0m\u001b[0;34m\u001b[0m\u001b[0m\n\u001b[0;32m-> 2800\u001b[0;31m             \u001b[0mindexer\u001b[0m \u001b[0;34m=\u001b[0m \u001b[0mself\u001b[0m\u001b[0;34m.\u001b[0m\u001b[0mcolumns\u001b[0m\u001b[0;34m.\u001b[0m\u001b[0mget_loc\u001b[0m\u001b[0;34m(\u001b[0m\u001b[0mkey\u001b[0m\u001b[0;34m)\u001b[0m\u001b[0;34m\u001b[0m\u001b[0;34m\u001b[0m\u001b[0m\n\u001b[0m\u001b[1;32m   2801\u001b[0m             \u001b[0;32mif\u001b[0m \u001b[0mis_integer\u001b[0m\u001b[0;34m(\u001b[0m\u001b[0mindexer\u001b[0m\u001b[0;34m)\u001b[0m\u001b[0;34m:\u001b[0m\u001b[0;34m\u001b[0m\u001b[0;34m\u001b[0m\u001b[0m\n\u001b[1;32m   2802\u001b[0m                 \u001b[0mindexer\u001b[0m \u001b[0;34m=\u001b[0m \u001b[0;34m[\u001b[0m\u001b[0mindexer\u001b[0m\u001b[0;34m]\u001b[0m\u001b[0;34m\u001b[0m\u001b[0;34m\u001b[0m\u001b[0m\n",
      "\u001b[0;32m/usr/local/lib/python3.8/site-packages/pandas/core/indexes/base.py\u001b[0m in \u001b[0;36mget_loc\u001b[0;34m(self, key, method, tolerance)\u001b[0m\n\u001b[1;32m   2646\u001b[0m                 \u001b[0;32mreturn\u001b[0m \u001b[0mself\u001b[0m\u001b[0;34m.\u001b[0m\u001b[0m_engine\u001b[0m\u001b[0;34m.\u001b[0m\u001b[0mget_loc\u001b[0m\u001b[0;34m(\u001b[0m\u001b[0mkey\u001b[0m\u001b[0;34m)\u001b[0m\u001b[0;34m\u001b[0m\u001b[0;34m\u001b[0m\u001b[0m\n\u001b[1;32m   2647\u001b[0m             \u001b[0;32mexcept\u001b[0m \u001b[0mKeyError\u001b[0m\u001b[0;34m:\u001b[0m\u001b[0;34m\u001b[0m\u001b[0;34m\u001b[0m\u001b[0m\n\u001b[0;32m-> 2648\u001b[0;31m                 \u001b[0;32mreturn\u001b[0m \u001b[0mself\u001b[0m\u001b[0;34m.\u001b[0m\u001b[0m_engine\u001b[0m\u001b[0;34m.\u001b[0m\u001b[0mget_loc\u001b[0m\u001b[0;34m(\u001b[0m\u001b[0mself\u001b[0m\u001b[0;34m.\u001b[0m\u001b[0m_maybe_cast_indexer\u001b[0m\u001b[0;34m(\u001b[0m\u001b[0mkey\u001b[0m\u001b[0;34m)\u001b[0m\u001b[0;34m)\u001b[0m\u001b[0;34m\u001b[0m\u001b[0;34m\u001b[0m\u001b[0m\n\u001b[0m\u001b[1;32m   2649\u001b[0m         \u001b[0mindexer\u001b[0m \u001b[0;34m=\u001b[0m \u001b[0mself\u001b[0m\u001b[0;34m.\u001b[0m\u001b[0mget_indexer\u001b[0m\u001b[0;34m(\u001b[0m\u001b[0;34m[\u001b[0m\u001b[0mkey\u001b[0m\u001b[0;34m]\u001b[0m\u001b[0;34m,\u001b[0m \u001b[0mmethod\u001b[0m\u001b[0;34m=\u001b[0m\u001b[0mmethod\u001b[0m\u001b[0;34m,\u001b[0m \u001b[0mtolerance\u001b[0m\u001b[0;34m=\u001b[0m\u001b[0mtolerance\u001b[0m\u001b[0;34m)\u001b[0m\u001b[0;34m\u001b[0m\u001b[0;34m\u001b[0m\u001b[0m\n\u001b[1;32m   2650\u001b[0m         \u001b[0;32mif\u001b[0m \u001b[0mindexer\u001b[0m\u001b[0;34m.\u001b[0m\u001b[0mndim\u001b[0m \u001b[0;34m>\u001b[0m \u001b[0;36m1\u001b[0m \u001b[0;32mor\u001b[0m \u001b[0mindexer\u001b[0m\u001b[0;34m.\u001b[0m\u001b[0msize\u001b[0m \u001b[0;34m>\u001b[0m \u001b[0;36m1\u001b[0m\u001b[0;34m:\u001b[0m\u001b[0;34m\u001b[0m\u001b[0;34m\u001b[0m\u001b[0m\n",
      "\u001b[0;32mpandas/_libs/index.pyx\u001b[0m in \u001b[0;36mpandas._libs.index.IndexEngine.get_loc\u001b[0;34m()\u001b[0m\n",
      "\u001b[0;32mpandas/_libs/index.pyx\u001b[0m in \u001b[0;36mpandas._libs.index.IndexEngine.get_loc\u001b[0;34m()\u001b[0m\n",
      "\u001b[0;32mpandas/_libs/hashtable_class_helper.pxi\u001b[0m in \u001b[0;36mpandas._libs.hashtable.PyObjectHashTable.get_item\u001b[0;34m()\u001b[0m\n",
      "\u001b[0;32mpandas/_libs/hashtable_class_helper.pxi\u001b[0m in \u001b[0;36mpandas._libs.hashtable.PyObjectHashTable.get_item\u001b[0;34m()\u001b[0m\n",
      "\u001b[0;31mKeyError\u001b[0m: 'lambda[1,1]'"
     ]
    }
   ],
   "source": [
    "c = zeros((nsamples,nobs))\n",
    "r = zeros((nsamples,nobs))\n",
    "d = zeros((nsamples,nobs))\n",
    "Rt = zeros((nsamples,nobs))\n",
    "CARt = zeros((nsamples,nobs))\n",
    "IFRt = zeros((nsamples,nobs))\n",
    "\n",
    "for i in range(1,nobs+1):\n",
    "    c[:,i-1] = samples['lambda['+str(i)+',1]']\n",
    "    r[:,i-1] = samples['lambda['+str(i)+',2]']\n",
    "    d[:,i-1] = samples['lambda['+str(i)+',3]']\n",
    "    Rt[:,i-1] = samples['Rt['+str(i)+']']\n",
    "    CARt[:,i-1] = samples['car['+str(i)+']']\n",
    "    IFRt[:,i-1] = samples['ifr['+str(i)+']']\n",
    "    \n",
    "lw = 4\n",
    "f,ax = subplots(2,3,figsize=(15,20))\n",
    "ax = ax.flatten()\n",
    "a = 0.1\n",
    "x = arange(nobs)\n",
    "plot_ts(ax[:3],c,r,d,x)\n",
    "\n",
    "ax[3].set_title(r'R$_t$')\n",
    "plotXt(ax[3],Rt,x,'purple')\n",
    "ax[3].set_ylim((0,20))\n",
    "ax[3].set_yticks([1,2,4,6,8,10,12])\n",
    "\n",
    "ax[4].set_title(r'CAR$_t$')\n",
    "plotXt(ax[4],CARt,x,'orange')\n",
    "\n",
    "ax[5].set_title(r'IFR$_t$')\n",
    "plotXt(ax[5],IFRt,x,'red')\n",
    "ax[5].set_ylim((0,0.15))\n",
    "ax[5].set_yticks([0.01,0.02,0.04,0.08])\n",
    "\n",
    "suptitle(roi + ' - ' + model_name)\n",
    "subplots_adjust(wspace=0.5,hspace=0.5)\n",
    "\n"
   ]
  },
  {
   "cell_type": "code",
   "execution_count": 11,
   "metadata": {},
   "outputs": [],
   "source": [
    "# def fix_date(x):\n",
    "#     x = datetime.strftime(datetime.strptime(x, '%m/%d/%y'), '%m/%d/%y')\n",
    "#     return x\n",
    "\n",
    "# def fix_date_covidtrack(x):\n",
    "#     x = datetime.strftime(datetime.strptime(str(x), '%Y%m%d'), '%m/%d/%y')\n",
    "#     return x \n",
    "\n",
    "# def getDF_covidtrack(roi):\n",
    "#     url = 'https://raw.githubusercontent.com/COVID19Tracking/covid-tracking-data/master/data/states_daily_4pm_et.csv'\n",
    "#     df = pd.read_csv(url)\n",
    "#     DF = pd.DataFrame(columns=['date', \n",
    "#                                'cum_cases','cum_recover','cum_deaths', \n",
    "#                                'new_cases', 'new_recover', 'new_deaths'])\n",
    "#     df = df[df['state']==roi]\n",
    "#     date = sort(df['date'].values)\n",
    "#     for i in range(len(date)):\n",
    "#         DF.loc[i] = pd.Series({\n",
    "#                              'date':fix_date_covidtrack(date[i]),\n",
    "#                              'cum_cases':df.loc[df['date']==date[i]]['positive'].values[0],\n",
    "#                              'cum_recover':df.loc[df['date']==date[i]]['recovered'].values[0],\n",
    "#                              'cum_deaths':df.loc[df['date']==date[i]]['death'].values[0],\n",
    "#                             })\n",
    "#     DF[['new_cases', 'new_recover', 'new_deaths']] = \\\n",
    "#     DF[['cum_cases',  'cum_recover', 'cum_deaths']].diff()\n",
    "#     if isnan(DF.new_cases.values[0]):\n",
    "#         DF = DF.iloc[1:]\n",
    "#     return DF\n",
    "\n",
    "# def getDF_JHU(roi):\n",
    "#     url_confirmed = \"https://raw.githubusercontent.com/CSSEGISandData/COVID-19/master/csse_covid_19_data/csse_covid_19_time_series/time_series_covid19_confirmed_global.csv\"\n",
    "#     url_recovered = \"https://raw.githubusercontent.com/CSSEGISandData/COVID-19/master/csse_covid_19_data/csse_covid_19_time_series/time_series_covid19_recovered_global.csv\"\n",
    "#     url_deaths = \"https://raw.githubusercontent.com/CSSEGISandData/COVID-19/master/csse_covid_19_data/csse_covid_19_time_series/time_series_covid19_deaths_global.csv\"\n",
    "\n",
    "#     dfc = pd.read_csv(url_confirmed)\n",
    "#     dfr = pd.read_csv(url_recovered)\n",
    "#     dfd = pd.read_csv(url_deaths)\n",
    "\n",
    "\n",
    "#     DF = pd.DataFrame(columns=['date', \n",
    "#                                'cum_cases','cum_recover','cum_deaths', \n",
    "#                                'new_cases', 'new_recover', 'new_deaths'])\n",
    "\n",
    "#     date = dfc.columns[4:].values\n",
    "#     try:\n",
    "#         for i in range(len(date)):\n",
    "#           DF.loc[i] = pd.Series({\n",
    "#                                 'date':fix_date(date[i]),\n",
    "#                                  'cum_cases':dfc.loc[(dfc['Country/Region']==roi)&(dfc['Province/State'].isnull())][date[i]].values[0],\n",
    "#                                  'cum_recover':dfr.loc[(dfr['Country/Region']==roi)&(dfc['Province/State'].isnull())][date[i]].values[0],\n",
    "#                                  'cum_deaths':dfd.loc[(dfd['Country/Region']==roi)&(dfc['Province/State'].isnull())][date[i]].values[0],\n",
    "#                                 })\n",
    "#     except:\n",
    "#         for i in range(len(date)):\n",
    "#           DF.loc[i] = pd.Series({\n",
    "#                                 'date':fix_date(date[i]),\n",
    "#                                  'cum_cases':sum(dfc.loc[(dfc['Country/Region']==roi)][date[i]].values),\n",
    "#                                  'cum_recover':sum(dfr.loc[(dfr['Country/Region']==roi)][date[i]].values),\n",
    "#                                  'cum_deaths':sum(dfd.loc[(dfd['Country/Region']==roi)][date[i]].values),\n",
    "#                                 })\n",
    "\n",
    "#     DF[['new_cases', 'new_recover', 'new_deaths']] = \\\n",
    "#     DF[['cum_cases',  'cum_recover', 'cum_deaths']].diff()\n",
    "\n",
    "#     # print(DF)\n",
    "#     if isnan(DF.new_cases.values[0]):\n",
    "#         DF = DF.iloc[1:]\n",
    "#     return DF\n"
   ]
  }
 ],
 "metadata": {
  "kernelspec": {
   "display_name": "Python 3",
   "language": "python",
   "name": "python3"
  },
  "language_info": {
   "codemirror_mode": {
    "name": "ipython",
    "version": 3
   },
   "file_extension": ".py",
   "mimetype": "text/x-python",
   "name": "python",
   "nbconvert_exporter": "python",
   "pygments_lexer": "ipython3",
   "version": "3.8.3"
  }
 },
 "nbformat": 4,
 "nbformat_minor": 4
}
